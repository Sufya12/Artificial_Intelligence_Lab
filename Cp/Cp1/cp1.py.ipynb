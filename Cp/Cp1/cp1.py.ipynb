{
 "cells": [
  {
   "cell_type": "code",
   "execution_count": 2,
   "id": "6637d22c",
   "metadata": {},
   "outputs": [
    {
     "name": "stdout",
     "output_type": "stream",
     "text": [
      "Enter the key123\n",
      "Enter the id = 201980013\n",
      "Enter the Name =Sufyan Ahmad\n",
      "Enter the job = data scientist\n",
      "Enter the salary= 4444444444\n",
      "{201980013: ['Sufyan Ahmad', 'data scientist', '4444444444']}\n",
      "Enter the key0\n",
      "Enter the Detail201980013\n",
      "['Sufyan Ahmad', 'data scientist', '4444444444']\n"
     ]
    }
   ],
   "source": [
    "detail = {}\n",
    "k = int(input(\"Enter the key\"))\n",
    "while k != 0:\n",
    "     detail[\"id\"]= int(input(\"Enter the id = \" ))\n",
    "     detail[\"Name\"] = input(\"Enter the Name =\")\n",
    "     detail[\"Job\"] = input(\"Enter the job = \")\n",
    "     detail[\"salary\"] = input(\"Enter the salary= \")\n",
    "     detail={detail[\"id\"]:[detail[\"Name\"],detail[\"Job\"],detail[\"salary\"]]}\n",
    "     print(detail)\n",
    "     k = int(input(\"Enter the key\"))\n",
    "    \n",
    "d= int(input(\"Enter the Detail\"))\n",
    "    \n",
    "if d in detail:\n",
    "        print(detail[d])\n",
    "else:\n",
    "     print(\"The are not Present\")"
   ]
  },
  {
   "cell_type": "code",
   "execution_count": null,
   "id": "cf7389c6",
   "metadata": {},
   "outputs": [],
   "source": []
  }
 ],
 "metadata": {
  "kernelspec": {
   "display_name": "Python 3 (ipykernel)",
   "language": "python",
   "name": "python3"
  },
  "language_info": {
   "codemirror_mode": {
    "name": "ipython",
    "version": 3
   },
   "file_extension": ".py",
   "mimetype": "text/x-python",
   "name": "python",
   "nbconvert_exporter": "python",
   "pygments_lexer": "ipython3",
   "version": "3.9.7"
  }
 },
 "nbformat": 4,
 "nbformat_minor": 5
}
