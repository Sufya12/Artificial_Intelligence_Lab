{
 "cells": [
  {
   "cell_type": "code",
   "execution_count": 1,
   "id": "6f6c50ac",
   "metadata": {},
   "outputs": [
    {
     "name": "stdout",
     "output_type": "stream",
     "text": [
      "Enter your NameSufyan\n",
      "Name Sufyan\n",
      "Enter your Age18\n",
      "Age18\n",
      "Enter your Phone No03056088\n",
      "Phone No03056088\n",
      "Enter your Qualificationbs Data Science\n",
      "Qualificationbs Data Science\n"
     ]
    }
   ],
   "source": [
    "array = []\n",
    "\n",
    "\n",
    "def take_input():\n",
    "    name = input(\"Enter your Name\")\n",
    "    print(\"Name \" + name)\n",
    "    age = input(\"Enter your Age\")\n",
    "    print(\"Age\" + age)\n",
    "    phone_No = input(\"Enter your Phone No\")\n",
    "    print('Phone No' + phone_No)\n",
    "    qual = input(\"Enter your Qualification\")\n",
    "    print(\"Qualification\" + qual)\n",
    "\n",
    "    array =[name,age,phone_No,qual]\n",
    "\n",
    "    return array\n",
    "\n",
    "def write_file():\n",
    "    with open('lab-test.txt', 'w') as f:\n",
    "        f.write(str(take_input()))\n",
    "\n",
    "\n",
    "def main():\n",
    "    write_file()\n",
    "\n",
    "\n",
    "if __name__ == '__main__':\n",
    "    main()"
   ]
  }
 ],
 "metadata": {
  "kernelspec": {
   "display_name": "Python 3 (ipykernel)",
   "language": "python",
   "name": "python3"
  },
  "language_info": {
   "codemirror_mode": {
    "name": "ipython",
    "version": 3
   },
   "file_extension": ".py",
   "mimetype": "text/x-python",
   "name": "python",
   "nbconvert_exporter": "python",
   "pygments_lexer": "ipython3",
   "version": "3.9.7"
  }
 },
 "nbformat": 4,
 "nbformat_minor": 5
}
