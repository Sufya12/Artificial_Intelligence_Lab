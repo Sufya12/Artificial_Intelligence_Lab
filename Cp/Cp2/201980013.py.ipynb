{
 "cells": [
  {
   "cell_type": "code",
   "execution_count": null,
   "id": "f2f83a61",
   "metadata": {},
   "outputs": [],
   "source": []
  },
  {
   "cell_type": "code",
   "execution_count": 1,
   "id": "8079c22c",
   "metadata": {},
   "outputs": [
    {
     "name": "stdout",
     "output_type": "stream",
     "text": [
      "Employee ID : 1\n",
      "Employee Name :  Sufyan Ahmad  \n",
      "Department : IT \n",
      "Job : Data Analsty \n",
      "\n",
      "\n",
      "Employee ID : 2\n",
      "Employee Name :  Ali  \n",
      "Department : Computer Science \n",
      "Job : Data Scientist \n",
      "\n",
      "\n",
      "Employee ID : 3\n",
      "Employee Name :  Usman Ahmad  \n",
      "Department : Cs  \n",
      "Job : Computer Enginer \n",
      "\n",
      "\n"
     ]
    }
   ],
   "source": [
    "class Employee:\n",
    "    \n",
    "    def __init__(self,Id,Name,Depte,Title):\n",
    "        self.__Id = Id\n",
    "        self.__Name = Name\n",
    "        self.__Depte = Depte\n",
    "        self.__Title = Title\n",
    "        \n",
    "    def __str__(self):\n",
    "        return   \"Employee ID : {}\\nEmployee Name :  {}  \\nDepartment : {} \\nJob : {} \\n\\n\".format(self.__Id ,  self.__Name  , self.__Depte  ,self.__Title)\n",
    "        \n",
    "   \n",
    "    \n",
    "emp1 = Employee('1','Sufyan Ahmad','IT','Data Analsty')\n",
    "emp2 = Employee('2','Ali', 'Computer Science', 'Data Scientist')\n",
    "emp3 = Employee('3','Usman Ahmad', 'Cs ', 'Computer Enginer')\n",
    "print(emp1)\n",
    "print(emp2)\n",
    "print(emp3)\n",
    "\n"
   ]
  },
  {
   "cell_type": "code",
   "execution_count": 2,
   "id": "729467bc",
   "metadata": {},
   "outputs": [
    {
     "name": "stdout",
     "output_type": "stream",
     "text": [
      "Product ID : 212 \n",
      "Product Name =  Jacket  \n",
      "Units in Inventory = 2 \n",
      "Price = 50 \n",
      "\n",
      "\n",
      "Product ID : 216 \n",
      "Product Name =  Jeans  \n",
      "Units in Inventory = 7 \n",
      "Price = 10000 \n",
      "\n",
      "\n",
      "Product ID : 217 \n",
      "Product Name =  Sweater  \n",
      "Units in Inventory = 100 \n",
      "Price = 3210.00 \n",
      "\n",
      "\n"
     ]
    }
   ],
   "source": [
    "class Item:\n",
    "    \n",
    "    def __init__(self,Id,Name,Unts,Price):\n",
    "        self.__Id = Id\n",
    "        self.__Name = Name\n",
    "        self.__Unts  = Unts \n",
    "        self.__Price = Price\n",
    "        \n",
    "    def set_Id(self,Id):\n",
    "        self.__Id = Id\n",
    "    def set_Unts(self,Unts):\n",
    "        self.__Unts = Unts\n",
    "    def set_Name(self,Name):\n",
    "        self.__Name = Name\n",
    "    def set_Price(self,Price):\n",
    "        self.__Price = Price\n",
    "        \n",
    "    def get_Id():\n",
    "        return self.__Id\n",
    "    def get_name():\n",
    "        return self.__Name\n",
    "    def get_Price():\n",
    "        return self.__Price\n",
    "    def get_Unts():\n",
    "        return self.__Unts\n",
    "        \n",
    "    def __str__(self):\n",
    "        return   \"Product ID : {} \\nProduct Name =  {}  \\nUnits in Inventory = {} \\nPrice = {} \\n\\n\".format(self.__Id ,  self.__Name   , self.__Unts   ,self.__Price)\n",
    "    \n",
    "\n",
    "q1 = Item('212','Jacket','2','50')\n",
    "q2 = Item('216','Jeans', '7', '10000')\n",
    "q3 = Item('217','Sweater', '100', '3210.00')\n",
    "print(q1)\n",
    "print(q2)\n",
    "print(q3)"
   ]
  },
  {
   "cell_type": "code",
   "execution_count": 3,
   "id": "02b4a0a9",
   "metadata": {},
   "outputs": [
    {
     "name": "stdout",
     "output_type": "stream",
     "text": [
      "Product ID : 7 \n",
      "Product Name =  pen  \n",
      "Units in Inventory = 9 \n",
      "Price = 100 \n",
      "\n",
      "\n"
     ]
    }
   ],
   "source": [
    "class Cashregister:\n",
    "    a = Item('7', 'pen', '9', '100')\n",
    "    print(a)\n",
    "    \n"
   ]
  },
  {
   "cell_type": "code",
   "execution_count": 4,
   "id": "5214c845",
   "metadata": {
    "scrolled": true
   },
   "outputs": [
    {
     "name": "stdout",
     "output_type": "stream",
     "text": [
      "<__main__.productionworker object at 0x04F06598> \n",
      "Employee's shift ID : Night \n",
      "Employee's hourly wage :  500 \n",
      "\n",
      " \n",
      "Employee ID : 1\n",
      "Employee Name :  Usman Ahmad  \n",
      "Department : Cs \n",
      "Job : Data scientist \n",
      "\n",
      "\n"
     ]
    }
   ],
   "source": [
    "class productionworker(Employee):\n",
    "    def __init__(self,Id,Name,Depte,Title,ShifT,Pay):\n",
    "        Employee.__init__(self,Id,Name,Depte,Title)\n",
    "        if ShifT ==1:\n",
    "            self.__ShifT = 'Day'\n",
    "        else:\n",
    "            self.__ShifT ='Night'\n",
    "        self.__Pay = Pay\n",
    "        \n",
    "    def set_ShifT(self,ShifT):\n",
    "        if ShifT ==1:\n",
    "            self.__ShifT = 'Day'\n",
    "        else:\n",
    "            self.__ShifT ='Night'\n",
    "    def set_Pay(self,Pay):\n",
    "        self.__Pay = Pay\n",
    "    def get_ShifT():\n",
    "        return self.__ShifT\n",
    "    def get_Pay():\n",
    "        return self.__Pay\n",
    "    def __str__(self):\n",
    "        str = super(Employee,self).__str__()\n",
    "        str += \" \\nEmployee's shift ID : {} \\nEmployee's hourly wage :  {} \\n\\n \".format(self.__ShifT ,  self.__Pay)\n",
    "        return str\n",
    "q2 = Employee('1','Usman Ahmad','Cs','Data scientist')    \n",
    "q1 = productionworker('1','Mary','Cs','Data Analsyt','0','500')\n",
    "print(q1)\n",
    "print(q2)\n",
    "\n"
   ]
  },
  {
   "cell_type": "code",
   "execution_count": 5,
   "id": "6ad92dc1",
   "metadata": {},
   "outputs": [
    {
     "name": "stdout",
     "output_type": "stream",
     "text": [
      "Person ID : 2019800 \n",
      "Name :  Sulman  \n",
      "Address : 07000055575 \n",
      "Phone : 866-B  \n",
      "Customer ID : 98 \n",
      "Wishes to be on mail :  No \n",
      "\n",
      " \n",
      "Person ID : 2019800013 \n",
      "Name :  Sufyan  \n",
      "Address : 056222225 \n",
      "Phone : 98-B  \n",
      "Customer ID : 56 \n",
      "Wishes to be on mail :  No \n",
      "\n",
      " \n"
     ]
    }
   ],
   "source": [
    "class person:\n",
    "    def __init__(self,Id,Name,AddresS,PhonE):\n",
    "        self.__Id = Id\n",
    "        self.__Name = Name\n",
    "        self.__AddresS = AddresS\n",
    "        self.__PhonE = PhonE\n",
    "    \n",
    "    def set_Id(self,Id):\n",
    "        self.__Id = Id\n",
    "    def set_AddresS(self,AddresS):\n",
    "        self.__address = address\n",
    "    def set_Name(self,Name):\n",
    "        self.__Name = Name\n",
    "    def set_PhonE(self,PhonE):\n",
    "        self.__PhonE = PhonE\n",
    "        \n",
    "    def get_Id():\n",
    "        return self.__Id\n",
    "    def get_Name():\n",
    "        return self.__Name\n",
    "    def get_PhonE():\n",
    "        return self.__PhonE\n",
    "    def get_AddresS():\n",
    "        return self.__addresS\n",
    "    def __str__(self):\n",
    "        return   \"Person ID : {} \\nName :  {}  \\nAddress : {} \\nPhone : {} \".format(self.__Id ,  self.__Name   , self.__PhonE   ,self.__AddresS)\n",
    "\n",
    "class customer(person):\n",
    "    def __init__(self,Id,Name,AddresS,PhonE,cId,mAil):\n",
    "        person.__init__(self,Id,Name,AddresS,PhonE)\n",
    "        self.__cId = cId\n",
    "        if mAil == 'Yes':\n",
    "            self.__mAil = 'Yes'\n",
    "        else:\n",
    "            self.__mAil= 'No'\n",
    "    \n",
    "    def set_cId(self,cId):\n",
    "        self.__cId = cId\n",
    "    def set_mAil(self,mAil):\n",
    "        if mail == 'Yes':\n",
    "            self.__mAil = 'Yes'\n",
    "        else:\n",
    "            self.__mAil= 'No'\n",
    "        \n",
    "    def get_cId():\n",
    "        return self.__cId\n",
    "    def get_mAil():\n",
    "        return self.__mAil\n",
    "    \n",
    "    def __str__(self):\n",
    "        str = super(customer,self).__str__()\n",
    "        str += \" \\nCustomer ID : {} \\nWishes to be on mail :  {} \\n\\n \".format(self.__cId ,self.__mAil)\n",
    "        return str\n",
    "e1 = customer('2019800', 'Sulman', '866-B','07000055575','98','k')\n",
    "d1 = customer('2019800013', 'Sufyan', '98-B','056222225','56','f')\n",
    "print(e1)\n",
    "print(d1)\n"
   ]
  }
 ],
 "metadata": {
  "kernelspec": {
   "display_name": "Python 3 (ipykernel)",
   "language": "python",
   "name": "python3"
  },
  "language_info": {
   "codemirror_mode": {
    "name": "ipython",
    "version": 3
   },
   "file_extension": ".py",
   "mimetype": "text/x-python",
   "name": "python",
   "nbconvert_exporter": "python",
   "pygments_lexer": "ipython3",
   "version": "3.9.7"
  }
 },
 "nbformat": 4,
 "nbformat_minor": 5
}
