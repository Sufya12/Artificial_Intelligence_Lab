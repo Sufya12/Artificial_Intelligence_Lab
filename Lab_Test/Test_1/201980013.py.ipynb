{
 "cells": [
  {
   "cell_type": "code",
   "execution_count": 18,
   "id": "cd0ba111",
   "metadata": {},
   "outputs": [
    {
     "ename": "IndentationError",
     "evalue": "unexpected indent (Temp/ipykernel_7372/1333979207.py, line 6)",
     "output_type": "error",
     "traceback": [
      "\u001b[1;36m  File \u001b[1;32m\"C:\\Users\\201980~1\\AppData\\Local\\Temp/ipykernel_7372/1333979207.py\"\u001b[1;36m, line \u001b[1;32m6\u001b[0m\n\u001b[1;33m    for i in range (number_of_hour_travel,distance ):\u001b[0m\n\u001b[1;37m    ^\u001b[0m\n\u001b[1;31mIndentationError\u001b[0m\u001b[1;31m:\u001b[0m unexpected indent\n"
     ]
    }
   ],
   "source": [
    "\n",
    "\n",
    "def DisplayDistance(speed_of_vehicle,number_of_hour_travel):\n",
    "  speed_of_vehicle= float(input(\"Enter The Vehicle Speed \"))\n",
    "  number_of_hour_travel= float(input(\"Enter The Number Hours Travel \"))\n",
    "  distance = speed_of_vehicle*number_of_hour_travel\n",
    "  \n",
    "    for i in range (number_of_hour_travel,distance ):\n",
    "        print(i,)\n",
    "        \n",
    "\n"
   ]
  }
 ],
 "metadata": {
  "kernelspec": {
   "display_name": "Python 3 (ipykernel)",
   "language": "python",
   "name": "python3"
  },
  "language_info": {
   "codemirror_mode": {
    "name": "ipython",
    "version": 3
   },
   "file_extension": ".py",
   "mimetype": "text/x-python",
   "name": "python",
   "nbconvert_exporter": "python",
   "pygments_lexer": "ipython3",
   "version": "3.9.7"
  }
 },
 "nbformat": 4,
 "nbformat_minor": 5
}
